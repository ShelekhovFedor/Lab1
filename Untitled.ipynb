{
 "cells": [
  {
   "cell_type": "code",
   "execution_count": 2,
   "id": "baf2ddd3-8465-498b-9991-df4bfe5ee544",
   "metadata": {},
   "outputs": [
    {
     "name": "stdout",
     "output_type": "stream",
     "text": [
      "jdjd\n"
     ]
    }
   ],
   "source": [
    "print(\"jdjd\")\n"
   ]
  },
  {
   "cell_type": "code",
   "execution_count": 30,
   "id": "25857777-959c-4aac-96ac-162d686e9f1c",
   "metadata": {},
   "outputs": [
    {
     "name": "stdout",
     "output_type": "stream",
     "text": [
      "0.9950041652780258\n",
      "0.995\n",
      "0.9800665778412416\n",
      "0.98\n",
      "0.955336489125606\n",
      "0.955\n",
      "0.9210609940028851\n",
      "0.9199999999999999\n",
      "0.8775825618903728\n",
      "0.875\n",
      "0.8253356149096783\n",
      "0.8200000000000001\n",
      "0.7648421872844885\n",
      "0.755\n",
      "0.6967067093471654\n",
      "0.6799999999999999\n",
      "0.6216099682706644\n",
      "0.595\n",
      "0.5403023058681398\n",
      "0.5\n"
     ]
    }
   ],
   "source": [
    "import math\n",
    "a=0.1\n",
    "b=1\n",
    "h=0.1\n",
    "s=0\n",
    "q=1\n",
    "i=0\n",
    "y=0.1\n",
    "for x in range (1,11,1):\n",
    "    x=x/10\n",
    "    y=math.cos(x)\n",
    "    print(y)\n",
    "    while q>=0.0001:\n",
    "        s+=((-1)**i)*(x**(2*i)/math.factorial(2*i))\n",
    "        q=((-1)**i)*(x**(2*i)/math.factorial(2*i))\n",
    "        i+=1\n",
    "    print(s)\n",
    "    s=0\n",
    "    q=1\n",
    "    i=0\n",
    "   \n",
    "    "
   ]
  },
  {
   "cell_type": "code",
   "execution_count": null,
   "id": "c3dff2b4-ca3a-4f96-a680-7aa9cf80415e",
   "metadata": {},
   "outputs": [],
   "source": []
  },
  {
   "cell_type": "code",
   "execution_count": null,
   "id": "cdb4aeb8-225a-470d-ac6a-007e3c56dcad",
   "metadata": {},
   "outputs": [],
   "source": []
  },
  {
   "cell_type": "code",
   "execution_count": null,
   "id": "82e845a0-59da-4649-a3bd-dc392bdae2dc",
   "metadata": {},
   "outputs": [],
   "source": []
  },
  {
   "cell_type": "code",
   "execution_count": null,
   "id": "f7700c73-5c9c-4891-bb37-69bf55ca2b97",
   "metadata": {},
   "outputs": [],
   "source": []
  },
  {
   "cell_type": "code",
   "execution_count": null,
   "id": "01a41899-ba58-4c1a-b101-a23dfddc383e",
   "metadata": {},
   "outputs": [],
   "source": []
  }
 ],
 "metadata": {
  "kernelspec": {
   "display_name": "Python 3 (ipykernel)",
   "language": "python",
   "name": "python3"
  },
  "language_info": {
   "codemirror_mode": {
    "name": "ipython",
    "version": 3
   },
   "file_extension": ".py",
   "mimetype": "text/x-python",
   "name": "python",
   "nbconvert_exporter": "python",
   "pygments_lexer": "ipython3",
   "version": "3.12.4"
  }
 },
 "nbformat": 4,
 "nbformat_minor": 5
}
